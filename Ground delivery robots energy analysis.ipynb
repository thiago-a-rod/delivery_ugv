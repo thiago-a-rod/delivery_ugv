{
 "cells": [
  {
   "cell_type": "code",
   "execution_count": 1,
   "id": "8bc8b5f5",
   "metadata": {},
   "outputs": [],
   "source": [
    "import numpy as np\n",
    "import pandas as pd\n",
    "import matplotlib.pyplot as plt\n",
    "import seaborn as sns\n",
    "\n",
    "from sklearn.linear_model import LinearRegression\n",
    "from matplotlib import rcParams\n",
    "\n",
    "rcParams.update({'figure.autolayout': True})"
   ]
  },
  {
   "cell_type": "code",
   "execution_count": 7,
   "id": "78cc93e3",
   "metadata": {},
   "outputs": [],
   "source": [
    "data = pd.read_csv(\"data_husky.csv\", low_memory=False)"
   ]
  },
  {
   "cell_type": "code",
   "execution_count": 8,
   "id": "18450af8",
   "metadata": {},
   "outputs": [],
   "source": [
    "def power_model(Crr,nbw,Wt,g,v,Z,a):\n",
    "    return Crr*Wt*g*v/nbw + (Wt*g*v*Z+0.5*Wt*v*a)/nbw"
   ]
  },
  {
   "cell_type": "code",
   "execution_count": null,
   "id": "7333ad52",
   "metadata": {},
   "outputs": [],
   "source": []
  },
  {
   "cell_type": "code",
   "execution_count": 9,
   "id": "19ab8011",
   "metadata": {},
   "outputs": [],
   "source": [
    "g = 9.81\n",
    "\n",
    "# Starship\n",
    "W_starship = 23 # kg\n",
    "v_starship = 1.7 # m/s\n",
    "payload_starship = 10 # kg \n",
    "\n",
    "W_scout = 45 # kg\n",
    "v_scout = 6.7 # m/s\n",
    "payload_scout = 23 # kg \n",
    "\n",
    "# Monte Carlo Simulation\n",
    "n = int(1e6)\n",
    "Crr = np.random.triangular(0.01,0.07,0.1, size=n)\n",
    "nbw = np.random.triangular(0.03,0.60,0.9, size=n)\n",
    "Z = np.random.triangular(np.arctan(np.radians(-5)), 0, np.arctan(np.radians(5)), size=n)\n",
    "\n",
    "\n",
    "Wt_starship = np.random.triangular(W_starship + payload_starship*0.3,W_starship + payload_starship*0.7,W_starship + payload_starship, size=n)\n",
    "v_starship = np.random.triangular(v_starship*0.3,v_starship*0.7,v_starship, size=n)\n",
    "a_starship = np.random.triangular(0,0.5,2, size=n)\n",
    "\n",
    "Wt_scout = np.random.triangular(W_scout + payload_scout*0.3,W_scout + payload_scout*0.7,W_scout + payload_scout, size=n)\n",
    "v_scout = np.random.triangular(v_scout*0.3,v_scout*0.7,v_scout, size=n)\n",
    "a_scout = np.random.triangular(0,5,10, size=n)\n",
    "\n",
    "df = pd.DataFrame({\"Crr\":Crr, \"nbw\":nbw,\"Z\":Z,\"Wt_starship\":Wt_starship, \"v_starship\":v_starship, \"a_starship\":a_starship,\n",
    "                  'Wt_scout':Wt_scout, \"v_scout\": v_scout, \"a_scout\":a_scout})\n"
   ]
  },
  {
   "cell_type": "code",
   "execution_count": 10,
   "id": "cb7527eb",
   "metadata": {},
   "outputs": [],
   "source": [
    "df['power_starship'] = df.Crr*df.Wt_starship*g*df.v_starship/df.nbw + (df.Wt_starship*g*v_starship*Z+0.5*Wt_starship*v_starship*a_starship)/nbw\n",
    "df['power_scout'] = df.Crr*df.Wt_scout*g*df.v_scout/df.nbw + (df.Wt_scout*g*v_scout*Z+0.5*Wt_scout*v_scout*a_scout)/nbw"
   ]
  },
  {
   "cell_type": "code",
   "execution_count": 14,
   "id": "5e6cbbc8",
   "metadata": {},
   "outputs": [
    {
     "name": "stderr",
     "output_type": "stream",
     "text": [
      "C:\\Users\\thiag\\anaconda3\\lib\\site-packages\\seaborn\\distributions.py:2619: FutureWarning: `distplot` is a deprecated function and will be removed in a future version. Please adapt your code to use either `displot` (a figure-level function with similar flexibility) or `histplot` (an axes-level function for histograms).\n",
      "  warnings.warn(msg, FutureWarning)\n"
     ]
    },
    {
     "data": {
      "image/png": "[encoded data removed]",
      "text/plain": [
       "<Figure size 432x288 with 1 Axes>"
      ]
     },
     "metadata": {
      "needs_background": "light"
     },
     "output_type": "display_data"
    }
   ],
   "source": [
    "sns.distplot(df.power_starship)\n",
    "plt.xlim(0,500)\n",
    "plt.show()"
   ]
  },
  {
   "cell_type": "code",
   "execution_count": 6,
   "id": "ddaf9fa3",
   "metadata": {},
   "outputs": [
    {
     "name": "stdout",
     "output_type": "stream",
     "text": [
      "1585.1222183708596\n"
     ]
    }
   ],
   "source": [
    "print(df.power_scout.median())"
   ]
  },
  {
   "cell_type": "code",
   "execution_count": null,
   "id": "5bf16dcf",
   "metadata": {},
   "outputs": [],
   "source": []
  }
 ],
 "metadata": {
  "kernelspec": {
   "display_name": "Python 3 (ipykernel)",
   "language": "python",
   "name": "python3"
  },
  "language_info": {
   "codemirror_mode": {
    "name": "ipython",
    "version": 3
   },
   "file_extension": ".py",
   "mimetype": "text/x-python",
   "name": "python",
   "nbconvert_exporter": "python",
   "pygments_lexer": "ipython3",
   "version": "3.9.7"
  }
 },
 "nbformat": 4,
 "nbformat_minor": 5
}
